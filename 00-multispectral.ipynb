{
 "cells": [
  {
   "cell_type": "markdown",
   "metadata": {
    "tags": [
     "remove_cell"
    ]
   },
   "source": [
    "<div><img style=\"float: left; padding-right: 3em;\" src=\"https://avatars.githubusercontent.com/u/19476722\" width=\"150\" /><div/>\n",
    "\n",
    "# Earth Data Science Coding Challenge!\n",
    "Before we get started, make sure to read or review the guidelines below. These will help make sure that your code is **readable** and **reproducible**. "
   ]
  },
  {
   "cell_type": "markdown",
   "metadata": {
    "tags": [
     "remove_cell"
    ]
   },
   "source": [
    "## Don't get **caught** by these Jupyter notebook gotchas\n",
    "\n",
    "<img src=\"https://miro.medium.com/v2/resize:fit:4800/format:webp/1*o0HleR7BSe8W-pTnmucqHA.jpeg\" width=300 style=\"padding: 1em; border-style: solid; border-color: grey;\" />\n",
    "\n",
    "  > *Image source: https://alaskausfws.medium.com/whats-big-and-brown-and-loves-salmon-e1803579ee36*\n",
    "\n",
    "These are the most common issues that will keep you from getting started and delay your code review:\n",
    "\n",
    "1. When you try to run some code on GitHub Codespaces, you may be prompted to select a **kernel**.\n",
    "   * The **kernel** refers to the version of Python you are using\n",
    "   * You should use the **base** kernel, which should be the default option. \n",
    "   * You can also use the `Select Kernel` menu in the upper right to select the **base** kernel\n",
    "2. Before you commit your work, make sure it runs **reproducibly** by clicking:\n",
    "   1. `Restart` (this button won't appear until you've run some code), then\n",
    "   2. `Run All`\n",
    "\n",
    "## Check your code to make sure it's clean and easy to read\n",
    "\n",
    "<img src=\"https://encrypted-tbn0.gstatic.com/images?q=tbn:ANd9GcSO1w9WrbwbuMLN14IezH-iq2HEGwO3JDvmo5Y_hQIy7k-Xo2gZH-mP2GUIG6RFWL04X1k&usqp=CAU\" height=200 />\n",
    "\n",
    "* Format all cells prior to submitting (right click on your code).\n",
    "* Use expressive names for variables so you or the reader knows what they are. \n",
    "* Use comments to explain your code -- e.g. \n",
    "  ```python\n",
    "  # This is a comment, it starts with a hash sign\n",
    "  ```\n",
    "\n",
    "## Label and describe your plots\n",
    "\n",
    "![Source: https://xkcd.com/833](https://imgs.xkcd.com/comics/convincing.png)\n",
    "\n",
    "Make sure each plot has:\n",
    "  * A title that explains where and when the data are from\n",
    "  * x- and y- axis labels with **units** where appropriate\n",
    "  * A legend where appropriate\n",
    "\n",
    "\n",
    "## Icons: how to use this notebook\n",
    "We use the following icons to let you know when you need to change something to complete the challenge:\n",
    "  * &#128187; means you need to write or edit some code.\n",
    "  \n",
    "  * &#128214;  indicates recommended reading\n",
    "  \n",
    "  * &#9998; marks written responses to questions\n",
    "  \n",
    "  * &#127798; is an optional extra challenge\n",
    "  "
   ]
  },
  {
   "cell_type": "markdown",
   "metadata": {},
   "source": [
    "---"
   ]
  },
  {
   "cell_type": "markdown",
   "metadata": {
    "deletable": false,
    "editable": false,
    "nbgrader": {
     "cell_type": "markdown",
     "checksum": "11476d9ca3c3e1339ac45f65d0197c85",
     "grade": false,
     "grade_id": "hw-instructions",
     "locked": true,
     "schema_version": 3,
     "solution": false,
     "task": false
    },
    "tags": [
     "hide"
    ]
   },
   "source": [
    "# Introduction to Multispectral Remote Sensing Data: Urban Green Space\n",
    "\n",
    "For this assignment, you will visualize and quantify differences in vegetation health by neighborhood in Chicago, IL.\n",
    "\n",
    "We will be developing this code over several weeks in order to practice writing **modular** code. To start, you will:\n",
    "1. Download National Agricultural Imagery Program (NAIP) multispectral data for a single neighborhood in Chicago\n",
    "2. Plot True Color (RGB) and Color Infrared (CIR) images of the area\n",
    "3. Calculate summary statistics of the NDVI.\n",
    "\n",
    "Eventually, you will use modular Python code to obtain those summary statistics for every neighborhood. You will create chloropleth maps of neighborhood greenery statistics, and relate those values to US Census data on income.\n",
    "\n",
    "YOU DO NOT NEED TO COMPLETE YOUR PORTFOLIO PIECE FOR THIS WEEK - but you will create one for the final analysis which you can start working on now."
   ]
  },
  {
   "cell_type": "markdown",
   "metadata": {
    "deletable": false,
    "editable": false,
    "nbgrader": {
     "cell_type": "markdown",
     "checksum": "15fc9f4d92c48c632534ea94f230051b",
     "grade": false,
     "grade_id": "step-1",
     "locked": true,
     "schema_version": 3,
     "solution": false,
     "task": false
    }
   },
   "source": [
    "## STEP 1: Get set up"
   ]
  },
  {
   "cell_type": "markdown",
   "metadata": {
    "deletable": false,
    "editable": false,
    "nbgrader": {
     "cell_type": "markdown",
     "checksum": "802ae90b5faf847da050844b4af9b307",
     "grade": false,
     "grade_id": "instr-imports",
     "locked": true,
     "schema_version": 3,
     "solution": false,
     "task": false
    }
   },
   "source": [
    "### Package imports\n",
    "Use the cell below to import the packages you need in the rest of the notebook (and **ONLY** the packages you need in the rest of the notebook).\n",
    "\n",
    "In addition to packages you have already used, you will need the following submodules:\n",
    "  * `earthpy.earthexplorer`\n",
    "  * `rioxarray.merge`"
   ]
  },
  {
   "cell_type": "code",
   "execution_count": null,
   "metadata": {
    "deletable": false,
    "extensions": {
     "jupyter_dashboards": {
      "version": 1,
      "views": {
       "grid_default": {},
       "report_default": {
        "hidden": true
       }
      }
     }
    },
    "nbgrader": {
     "cell_type": "code",
     "checksum": "62e02a7624d7768be1e0d7717d4b33d6",
     "grade": false,
     "grade_id": "ans-imports",
     "locked": false,
     "schema_version": 3,
     "solution": true,
     "task": false
    },
    "tags": [
     "hide"
    ]
   },
   "outputs": [],
   "source": [
    "# YOUR CODE HERE\n",
    "raise NotImplementedError()"
   ]
  },
  {
   "cell_type": "markdown",
   "metadata": {
    "deletable": false,
    "editable": false,
    "nbgrader": {
     "cell_type": "markdown",
     "checksum": "1621a175d90065e40d35b48300235d96",
     "grade": false,
     "grade_id": "step-2",
     "locked": true,
     "schema_version": 3,
     "solution": false,
     "task": false
    }
   },
   "source": [
    "## STEP 2: Area of Interest"
   ]
  },
  {
   "cell_type": "markdown",
   "metadata": {
    "deletable": false,
    "editable": false,
    "nbgrader": {
     "cell_type": "markdown",
     "checksum": "5b949b122646c434012fc850dc8ba287",
     "grade": false,
     "grade_id": "task-site-description",
     "locked": true,
     "points": 10,
     "schema_version": 3,
     "solution": false,
     "task": true
    }
   },
   "source": [
    "## Site Description\n",
    "\n",
    "Research the history and context of green spaces in Chicago, IL and write a short site description. You could include information about:\n",
    "  * climate and native vegetation\n",
    "  * culture and history of the Humboldt Park neighborhood\n",
    "  * urban greenspace development programs that may affect NDVI observations\n",
    "\n",
    "Make sure to cite your sources."
   ]
  },
  {
   "cell_type": "markdown",
   "metadata": {},
   "source": [
    "WRITE YOUR SITE DESCRIPTION HERE"
   ]
  },
  {
   "cell_type": "markdown",
   "metadata": {
    "deletable": false,
    "editable": false,
    "nbgrader": {
     "cell_type": "markdown",
     "checksum": "200f233967b491c25a808756dfa6a5d0",
     "grade": false,
     "grade_id": "instr-download-neighborhoods",
     "locked": true,
     "schema_version": 3,
     "solution": false,
     "task": false
    }
   },
   "source": [
    "### The Humboldt Park Neighborhood\n",
    "\n",
    "In the cell below, download a shapefile of the City of Chicago neighborhoods from [the City of Chicago Data Portal](https://data.cityofchicago.org/).\n",
    "\n",
    "YOUR TASK:\n",
    "1. Find the url for the City of Chicago Neighborhood boundaries as a Shapefile\n",
    "2. Download and open up the shapefile\n",
    "3. Select the 'Humboldt Park' neighborhood for this practice analysis\n",
    "\n",
    "> HINT: The test is expecting a `GeoDataFrame`. Depending on how you get your single row, `geopandas` may turn it into a `GeoSeries`. Just as with selecting a single column as a `DataFrame`, you should be able to use double sqare brackets `[[]]` to get your result as a `GeoDataFrame`."
   ]
  },
  {
   "cell_type": "code",
   "execution_count": null,
   "metadata": {
    "deletable": false,
    "nbgrader": {
     "cell_type": "code",
     "checksum": "1ea109f4d72fe9c96476d2989bc797d3",
     "grade": false,
     "grade_id": "ans-download-neighborhoods",
     "locked": false,
     "schema_version": 3,
     "solution": true,
     "task": false
    }
   },
   "outputs": [],
   "source": [
    "# YOUR CODE HERE\n",
    "raise NotImplementedError()"
   ]
  },
  {
   "cell_type": "code",
   "execution_count": null,
   "metadata": {
    "deletable": false,
    "editable": false,
    "nbgrader": {
     "cell_type": "code",
     "checksum": "8f30b21293d0ce00d78c7f3a95152541",
     "grade": true,
     "grade_id": "tests-download-neighborhoods",
     "locked": true,
     "points": 10,
     "schema_version": 3,
     "solution": false,
     "task": false
    }
   },
   "outputs": [],
   "source": [
    "# BEGIN TESTS\n",
    "ans_hp_gdf = _\n",
    "\n",
    "points_hp_gdf = 0\n",
    "\n",
    "if isinstance(ans_hp_gdf, gpd.GeoDataFrame):\n",
    "    print(\"\\u2705 Great job! Your data are stored in a GeoDataFrame!\")\n",
    "    points_hp_gdf += 2\n",
    "else:\n",
    "    print(\"\\u274C Oops, the data are not stored in a GeoDataFrame.\")\n",
    "\n",
    "if round(ans_hp_gdf.to_crs(32616).length.sum(), 2)==14054.35:\n",
    "    points_hp_gdf += 8\n",
    "    print(\"\\u2705 You downloaded the correct neighborhood boundaries!\")\n",
    "else:\n",
    "    print(\"\\u274C The data were not downloaded correctly.\")\n",
    "\n",
    "print('You earned {} of 10 points'.format(points_hp_gdf))\n",
    "points_hp_gdf\n",
    "# END TESTS"
   ]
  },
  {
   "cell_type": "markdown",
   "metadata": {
    "deletable": false,
    "editable": false,
    "nbgrader": {
     "cell_type": "markdown",
     "checksum": "80cc7e2e7777e5740277209ce0f8661e",
     "grade": false,
     "grade_id": "task-site-map",
     "locked": true,
     "points": 5,
     "schema_version": 3,
     "solution": false,
     "task": true
    }
   },
   "source": [
    "### Site Map\n",
    "\n",
    "In the cell below, make a plot of the Humboldt Park neighborhood boundary over a tile source map of your choice to verify that your data download worked as expected.\n",
    "\n",
    "> HINT: Reproject the neighborhood shapefile to `EPSG:3857` (Web Mercator) to get it to display on top of a tile source basemap."
   ]
  },
  {
   "cell_type": "code",
   "execution_count": null,
   "metadata": {
    "deletable": false,
    "nbgrader": {
     "cell_type": "code",
     "checksum": "70ec63e0f5913597a34b02640728fc5c",
     "grade": false,
     "grade_id": "ans-site-map",
     "locked": false,
     "schema_version": 3,
     "solution": true,
     "task": false
    }
   },
   "outputs": [],
   "source": [
    "# YOUR CODE HERE\n",
    "raise NotImplementedError()"
   ]
  },
  {
   "cell_type": "markdown",
   "metadata": {
    "deletable": false,
    "editable": false,
    "nbgrader": {
     "cell_type": "markdown",
     "checksum": "5d5a011daf62bc69e29c49ffbf487a34",
     "grade": false,
     "grade_id": "step-3",
     "locked": true,
     "schema_version": 3,
     "solution": false,
     "task": false
    }
   },
   "source": [
    "## STEP 3: Data Download"
   ]
  },
  {
   "cell_type": "markdown",
   "metadata": {
    "deletable": false,
    "editable": false,
    "nbgrader": {
     "cell_type": "markdown",
     "checksum": "1e469e51420468f27f386593d56f8d73",
     "grade": false,
     "grade_id": "task-ms",
     "locked": true,
     "points": 10,
     "schema_version": 3,
     "solution": false,
     "task": true
    }
   },
   "source": [
    "### NAIP Multispectral Data\n",
    "\n",
    "Use multispectral data from the [National Agricuture Imagery Program](https://naip-usdaonline.hub.arcgis.com/) for this analysis. Multispectral imagery can be enhanced using [false color images](https://earthobservatory.nasa.gov/features/FalseColor/page6.php) or [spectral indices]() in order to highlight phenomena such as vegetation health, wetness, or heat. In this analysis, you will produce a color infrared (CIR) false color image as well as a normalized difference vegetation index (NDVI) image. Both of these methods will enhance differences in vegetation health captured by the data.\n",
    "\n",
    "\n",
    "YOUR TASK: In the cell below, describe the data you use in this analysis, including a citation. "
   ]
  },
  {
   "cell_type": "markdown",
   "metadata": {},
   "source": [
    "WRITE YOUR DATA DESCRIPTION AND CITATION HERE"
   ]
  },
  {
   "cell_type": "markdown",
   "metadata": {
    "deletable": false,
    "editable": false,
    "nbgrader": {
     "cell_type": "markdown",
     "checksum": "5e9680f39a979154bd03d36f5581780a",
     "grade": false,
     "grade_id": "instr-download-naip",
     "locked": true,
     "schema_version": 3,
     "solution": false,
     "task": false
    }
   },
   "source": [
    "### Download NAIP Data using the Earth Explorer M2M Interface\n",
    "The data that you will use for this week is available Earth Explorer. However, you will need more data that you can reasonably download using the web interface for Earth Explorer. Instead, you will need to write some code to download data using the Earth Explorer [Machine to Machine (M2M) interface](https://m2m.cr.usgs.gov/).\n",
    "\n",
    "**You will need to [sign up for access the the M2M interface](https://ers.cr.usgs.gov/profile/access) to complete this assignment -- please note that it can take a day or two to get access**\n",
    "\n",
    "YOUR TASK:\n",
    "  1. Copy the following starter code into the cell below:\n",
    "     \n",
    "```python\n",
    "bbox = etee.BBox(*gdf.total_bounds)\n",
    "naip_downloader = etee.EarthExplorerDownloader(\n",
    "    dataset=\"NAIP\", \n",
    "    label='hp-green-space', \n",
    "    bbox=bbox,\n",
    "    start='2021-01-01', \n",
    "    end='2021-12-31',\n",
    "    store_credential=True)\n",
    "naip_downloader.submit_download_request()\n",
    "naip_downloader.download(override=False)\n",
    "```\n",
    "\n",
    "Please leave the label value as `'hp-green-space'` so that I can reproduce your analysis!"
   ]
  },
  {
   "cell_type": "code",
   "execution_count": null,
   "metadata": {
    "deletable": false,
    "nbgrader": {
     "cell_type": "code",
     "checksum": "7be14fe3d75462ced1803cf9a1a52cf2",
     "grade": false,
     "grade_id": "ans-download",
     "locked": false,
     "schema_version": 3,
     "solution": true,
     "task": false
    }
   },
   "outputs": [],
   "source": [
    "# YOUR CODE HERE\n",
    "raise NotImplementedError()"
   ]
  },
  {
   "cell_type": "code",
   "execution_count": null,
   "metadata": {
    "deletable": false,
    "editable": false,
    "nbgrader": {
     "cell_type": "code",
     "checksum": "3d00c2733fe7bea88d6f6eddf3e1042c",
     "grade": true,
     "grade_id": "tests-download-naip",
     "locked": true,
     "points": 10,
     "schema_version": 3,
     "solution": false,
     "task": false
    }
   },
   "outputs": [],
   "source": [
    "# BEGIN TESTS\n",
    "points_naip_download = 0\n",
    "\n",
    "data_dir = os.path.join(\n",
    "    et.io.HOME, 'earth-analytics', 'data', 'hp-green-space', '*.tif')\n",
    "if glob(data_dir):\n",
    "    print(\"\\u2705 Great job! Your downloaded and unzipped data!\")\n",
    "    points_naip_download += 10\n",
    "else:\n",
    "    print(\"\\u274C Oops, your data didn't get downloaded.\")\n",
    "\n",
    "print('You earned {} of 10 points'.format(points_naip_download))\n",
    "points_naip_download\n",
    "# END TESTS"
   ]
  },
  {
   "cell_type": "markdown",
   "metadata": {
    "deletable": false,
    "editable": false,
    "nbgrader": {
     "cell_type": "markdown",
     "checksum": "09e7c0b0a03613aa03e817bbb77928d8",
     "grade": false,
     "grade_id": "instr-load-data",
     "locked": true,
     "schema_version": 3,
     "solution": false,
     "task": false
    }
   },
   "source": [
    "### Load in your data\n",
    "\n",
    "YOUR TASK:\n",
    " 1. Load in the data\n",
    " 2. Clip the data to the `total_bounds` of the Humboldt Park neighborhood"
   ]
  },
  {
   "cell_type": "code",
   "execution_count": null,
   "metadata": {
    "deletable": false,
    "nbgrader": {
     "cell_type": "code",
     "checksum": "a90f0a81189af68d60f0dff75d22e61d",
     "grade": false,
     "grade_id": "ans-load-data",
     "locked": false,
     "schema_version": 3,
     "solution": true,
     "task": false
    }
   },
   "outputs": [],
   "source": [
    "# YOUR CODE HERE\n",
    "raise NotImplementedError()"
   ]
  },
  {
   "cell_type": "code",
   "execution_count": null,
   "metadata": {
    "deletable": false,
    "editable": false,
    "nbgrader": {
     "cell_type": "code",
     "checksum": "f6dba456d905ae70bdc40eade3c49f4d",
     "grade": true,
     "grade_id": "tests-clip",
     "locked": true,
     "points": 10,
     "schema_version": 3,
     "solution": false,
     "task": false
    }
   },
   "outputs": [],
   "source": [
    "# BEGIN TESTS\n",
    "ans_clip = _\n",
    "points_clip = 0\n",
    "\n",
    "correct_bounds = [438507, 442626, 4637577, 4640482]\n",
    "ans_bounds = [\n",
    "    round(float(ans_clip.x.min())),\n",
    "    round(float(ans_clip.x.max())),\n",
    "    round(float(ans_clip.y.min())),\n",
    "    round(float(ans_clip.y.max()))]\n",
    "if ans_bounds==correct_bounds:\n",
    "    print(\"\\u2705 Great job! Your clipped the data!\")\n",
    "    points_clip += 10\n",
    "else:\n",
    "    print(\"\\u274C Oops, your data didn't get clipped correctly.\")\n",
    "\n",
    "print('You earned {} of 10 points'.format(points_clip))\n",
    "points_clip\n",
    "# END TESTS"
   ]
  },
  {
   "cell_type": "markdown",
   "metadata": {
    "deletable": false,
    "editable": false,
    "nbgrader": {
     "cell_type": "markdown",
     "checksum": "5a4bb7d7120a6eec45e9ef9d3ea5dc8c",
     "grade": false,
     "grade_id": "step-4",
     "locked": true,
     "schema_version": 3,
     "solution": false,
     "task": false
    }
   },
   "source": [
    "## STEP 4: Map NAIP Data"
   ]
  },
  {
   "cell_type": "markdown",
   "metadata": {
    "deletable": false,
    "editable": false,
    "nbgrader": {
     "cell_type": "markdown",
     "checksum": "c5974ed6c26b844cf03bb74be02e1538",
     "grade": false,
     "grade_id": "instr-map-prep",
     "locked": true,
     "schema_version": 3,
     "solution": false,
     "task": false
    }
   },
   "source": [
    "You will use the `.hvplot.rgb()` method to plot color images. For this to work correctly, your data MUST be formatted as expected, with three bands in Red - Green - Blue order. If you include a fourth band, it will be interpreted as transparency (alpha).\n",
    "\n",
    "YOUR TASK: reformat your data for plotting\n",
    "  1. Research the NAIP data to learn which band is which\n",
    "  2. Research Color InfraRed imagery to find out which band is represented with which color\n",
    "  3. Create two `DataArrays` - one to plot as RGB, and one to plot as CIR"
   ]
  },
  {
   "cell_type": "code",
   "execution_count": null,
   "metadata": {
    "deletable": false,
    "nbgrader": {
     "cell_type": "code",
     "checksum": "26df1b61127f6c9a06454dd032a3b202",
     "grade": false,
     "grade_id": "ans-map-prep",
     "locked": false,
     "schema_version": 3,
     "solution": true,
     "task": false
    }
   },
   "outputs": [],
   "source": [
    "# YOUR CODE HERE\n",
    "raise NotImplementedError()"
   ]
  },
  {
   "cell_type": "markdown",
   "metadata": {
    "deletable": false,
    "editable": false,
    "nbgrader": {
     "cell_type": "markdown",
     "checksum": "50ca4f23eb07d9c726de40db159bf7f3",
     "grade": false,
     "grade_id": "task-rgb",
     "locked": true,
     "points": 10,
     "schema_version": 3,
     "solution": false,
     "task": true
    }
   },
   "source": [
    "### RGB Map\n",
    "\n",
    "YOUR TASK: Generate a True Color RGB image of the Humboldt Park neighborhood. Make sure that your image is not overly distorted by setting the `data_aspect` parameter.\n",
    "\n",
    "> HINT: use the `rasterize=True` parameter for dynamic zoom (and faster plotting)\n",
    "\n",
    "OPTIONAL EXTRA CHALLENGE: overlay the Humboldt Park neighborhood boundary on your plot. NOTE that your will need to reproject the boundary to match your `DataArray` to get it to show up."
   ]
  },
  {
   "cell_type": "code",
   "execution_count": null,
   "metadata": {
    "deletable": false,
    "nbgrader": {
     "cell_type": "code",
     "checksum": "ddf60d05d10cc0f12209dd9f0895a32f",
     "grade": false,
     "grade_id": "ans-rgb",
     "locked": false,
     "schema_version": 3,
     "solution": true,
     "task": false
    }
   },
   "outputs": [],
   "source": [
    "# YOUR CODE HERE\n",
    "raise NotImplementedError()"
   ]
  },
  {
   "cell_type": "markdown",
   "metadata": {
    "deletable": false,
    "editable": false,
    "nbgrader": {
     "cell_type": "markdown",
     "checksum": "dcf9ae62f439138fa8bba642c3914368",
     "grade": false,
     "grade_id": "task-cir",
     "locked": true,
     "points": 10,
     "schema_version": 3,
     "solution": false,
     "task": true
    }
   },
   "source": [
    "### CIR Map\n",
    "\n",
    "Now make a Color InfraRed map."
   ]
  },
  {
   "cell_type": "code",
   "execution_count": null,
   "metadata": {
    "deletable": false,
    "nbgrader": {
     "cell_type": "code",
     "checksum": "523a95237b2d5f54525885bea06e2ace",
     "grade": false,
     "grade_id": "ans-cir",
     "locked": false,
     "schema_version": 3,
     "solution": true,
     "task": false
    }
   },
   "outputs": [],
   "source": [
    "# YOUR CODE HERE\n",
    "raise NotImplementedError()"
   ]
  },
  {
   "cell_type": "markdown",
   "metadata": {
    "deletable": false,
    "editable": false,
    "nbgrader": {
     "cell_type": "markdown",
     "checksum": "05666c998c8ef65c1e3737898d3d2e18",
     "grade": false,
     "grade_id": "naip-plot-written-question",
     "locked": true,
     "points": 5,
     "schema_version": 3,
     "solution": false,
     "task": true
    }
   },
   "source": [
    "## In the cell below, answer the following questions:\n",
    "\n",
    "1. What does the CIR image highlight?\n",
    "2. Which band, and which the wavelengths contained in that band, allow a CIR image to highlight the thing that you identified above?\n"
   ]
  },
  {
   "cell_type": "markdown",
   "metadata": {},
   "source": [
    "WRITE YOUR ANSWERS ABOUT CIR IMAGES HERE"
   ]
  },
  {
   "cell_type": "markdown",
   "metadata": {
    "deletable": false,
    "editable": false,
    "nbgrader": {
     "cell_type": "markdown",
     "checksum": "9565b0eae48a28c339576ae4c4ac69f6",
     "grade": false,
     "grade_id": "step-5",
     "locked": true,
     "schema_version": 3,
     "solution": false,
     "task": false
    }
   },
   "source": [
    "## STEP 5: Compute NDVI and summary statistics"
   ]
  },
  {
   "cell_type": "markdown",
   "metadata": {
    "deletable": false,
    "editable": false,
    "nbgrader": {
     "cell_type": "markdown",
     "checksum": "ab52a077267e9df182bc4b6ada953768",
     "grade": false,
     "grade_id": "instr-ndvi",
     "locked": true,
     "schema_version": 3,
     "solution": false,
     "task": false
    }
   },
   "source": [
    "YOUR TASK:\n",
    "  1. Compute the Normalized Difference Vegetation Index from the NAIP data. You can use the `normalized_diff` function from the `earthpy.spatial` library if you like.\n",
    "  2. Plot the NDVI."
   ]
  },
  {
   "cell_type": "code",
   "execution_count": null,
   "metadata": {
    "deletable": false,
    "nbgrader": {
     "cell_type": "code",
     "checksum": "139594ffa5ab59e5767e6c0e2a740a27",
     "grade": false,
     "grade_id": "cell-077d0d550ea6f411",
     "locked": false,
     "schema_version": 3,
     "solution": true,
     "task": false
    }
   },
   "outputs": [],
   "source": [
    "# YOUR CODE HERE\n",
    "raise NotImplementedError()"
   ]
  },
  {
   "cell_type": "markdown",
   "metadata": {
    "deletable": false,
    "editable": false,
    "nbgrader": {
     "cell_type": "markdown",
     "checksum": "837f403c801cd11e71b334c2d0c5fb1d",
     "grade": false,
     "grade_id": "instr-plot-ndvi",
     "locked": true,
     "points": 0,
     "schema_version": 3,
     "solution": false,
     "task": true
    }
   },
   "source": [
    "EXTRA CHALLENGE (5 pts extra credit): Display your NDVI plot next to the CIR image. You should notice a lot of similarities! NOTE that setting the `frame_width` and `frame_height` to match seems to be the best way to get the two images to be the same size."
   ]
  },
  {
   "cell_type": "code",
   "execution_count": null,
   "metadata": {
    "deletable": false,
    "nbgrader": {
     "cell_type": "code",
     "checksum": "b0f9550e52e6b863649ee1ec0048a24a",
     "grade": false,
     "grade_id": "ans-plot-ndvi",
     "locked": false,
     "schema_version": 3,
     "solution": true,
     "task": false
    }
   },
   "outputs": [],
   "source": [
    "# YOUR CODE HERE\n",
    "raise NotImplementedError()"
   ]
  },
  {
   "cell_type": "markdown",
   "metadata": {
    "deletable": false,
    "editable": false,
    "nbgrader": {
     "cell_type": "markdown",
     "checksum": "aafb4c82e18e924669140e796f1009ba",
     "grade": false,
     "grade_id": "task-ndvi-stats",
     "locked": true,
     "points": 20,
     "schema_version": 3,
     "solution": false,
     "task": true
    }
   },
   "source": [
    "YOUR TASK:\n",
    "  1. Clip your NDVI data to the boundary of Humboldt Park. HINT: quickly plot your data to make sure this step is working.\n",
    "  2. Compute:\n",
    "     * minimum\n",
    "     * maximum\n",
    "     * median\n",
    "     * 25th and 75th percentiles (Use the `np.percentile(da, percentile)` function from the `numpy` package)\n",
    "     * mean\n",
    "     * standard deviation\n",
    "       \n",
    "     of the NDVI in Humboldt Park.\n",
    "  3. Save your results to a `pd.DataFrame`, and then export them to a file using the `.to_csv()` method. You may want to use the `index=False` parameter to avoid an extra column.\n",
    "\n",
    "HINT: To get a single number instead of a `DataArray` when summarizing, you can use the `float()` method"
   ]
  },
  {
   "cell_type": "code",
   "execution_count": null,
   "metadata": {
    "deletable": false,
    "nbgrader": {
     "cell_type": "code",
     "checksum": "40521ae048543c86cb0b89e1726e7fa9",
     "grade": false,
     "grade_id": "ans-ndvi-stats",
     "locked": false,
     "schema_version": 3,
     "solution": true,
     "task": false
    }
   },
   "outputs": [],
   "source": [
    "# YOUR CODE HERE\n",
    "raise NotImplementedError()"
   ]
  }
 ],
 "metadata": {
  "extensions": {
   "jupyter_dashboards": {
    "activeView": "report_default",
    "version": 1,
    "views": {
     "grid_default": {
      "name": "grid",
      "type": "grid"
     },
     "report_default": {
      "name": "report",
      "type": "report"
     }
    }
   }
  },
  "kernelspec": {
   "display_name": "Python 3 (ipykernel)",
   "language": "python",
   "name": "python3"
  },
  "language_info": {
   "codemirror_mode": {
    "name": "ipython",
    "version": 3
   },
   "file_extension": ".py",
   "mimetype": "text/x-python",
   "name": "python",
   "nbconvert_exporter": "python",
   "pygments_lexer": "ipython3",
   "version": "3.10.12"
  },
  "toc": {
   "base_numbering": 1,
   "nav_menu": {},
   "number_sections": true,
   "sideBar": true,
   "skip_h1_title": false,
   "title_cell": "Table of Contents",
   "title_sidebar": "Contents",
   "toc_cell": false,
   "toc_position": {},
   "toc_section_display": true,
   "toc_window_display": true
  },
  "varInspector": {
   "cols": {
    "lenName": 16,
    "lenType": 16,
    "lenVar": 40
   },
   "kernels_config": {
    "python": {
     "delete_cmd_postfix": "",
     "delete_cmd_prefix": "del ",
     "library": "var_list.py",
     "varRefreshCmd": "print(var_dic_list())"
    },
    "r": {
     "delete_cmd_postfix": ") ",
     "delete_cmd_prefix": "rm(",
     "library": "var_list.r",
     "varRefreshCmd": "cat(var_dic_list()) "
    }
   },
   "types_to_exclude": [
    "module",
    "function",
    "builtin_function_or_method",
    "instance",
    "_Feature"
   ],
   "window_display": false
  }
 },
 "nbformat": 4,
 "nbformat_minor": 4
}
